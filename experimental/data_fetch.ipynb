{
 "cells": [
  {
   "cell_type": "markdown",
   "metadata": {
    "vscode": {
     "languageId": "plaintext"
    }
   },
   "source": [
    "# 1. Load Data "
   ]
  },
  {
   "cell_type": "code",
   "execution_count": null,
   "metadata": {},
   "outputs": [],
   "source": [
    "from data_scrappers.crypto_prices import get_end_of_day_prices"
   ]
  },
  {
   "cell_type": "code",
   "execution_count": 5,
   "metadata": {},
   "outputs": [],
   "source": [
    "df = get_end_of_day_prices(crypto_id=\"bitcoin\", currency_code='inr', N=45, timezone=\"Asia/Kolkata\")"
   ]
  },
  {
   "cell_type": "code",
   "execution_count": 6,
   "metadata": {},
   "outputs": [
    {
     "data": {
      "text/plain": [
       "(True,\n",
       "       timestamps_unix         price           timestamp_Asia/Kolkata\n",
       " 0        1.745698e+12  8.058228e+06 2025-04-27 01:39:49.954000+05:30\n",
       " 1        1.745702e+12  8.044211e+06 2025-04-27 02:39:07.622000+05:30\n",
       " 2        1.745705e+12  8.058610e+06 2025-04-27 03:34:52.473000+05:30\n",
       " 3        1.745709e+12  8.090171e+06 2025-04-27 04:32:10.001000+05:30\n",
       " 4        1.745712e+12  8.082998e+06 2025-04-27 05:33:27.656000+05:30\n",
       " ...               ...           ...                              ...\n",
       " 1075     1.749571e+12  9.329165e+06 2025-06-10 21:33:34.035000+05:30\n",
       " 1076     1.749575e+12  9.309591e+06 2025-06-10 22:33:41.388000+05:30\n",
       " 1077     1.749579e+12  9.306690e+06 2025-06-10 23:33:09.602000+05:30\n",
       " 1078     1.749582e+12  9.357770e+06 2025-06-11 00:33:32.563000+05:30\n",
       " 1079     1.749583e+12  9.366734e+06        2025-06-11 00:47:57+05:30\n",
       " \n",
       " [1080 rows x 3 columns],\n",
       " None)"
      ]
     },
     "execution_count": 6,
     "metadata": {},
     "output_type": "execute_result"
    }
   ],
   "source": [
    "df"
   ]
  },
  {
   "cell_type": "code",
   "execution_count": null,
   "metadata": {},
   "outputs": [],
   "source": []
  }
 ],
 "metadata": {
  "kernelspec": {
   "display_name": "trader-venv",
   "language": "python",
   "name": "python3"
  },
  "language_info": {
   "codemirror_mode": {
    "name": "ipython",
    "version": 3
   },
   "file_extension": ".py",
   "mimetype": "text/x-python",
   "name": "python",
   "nbconvert_exporter": "python",
   "pygments_lexer": "ipython3",
   "version": "3.12.1"
  }
 },
 "nbformat": 4,
 "nbformat_minor": 2
}
