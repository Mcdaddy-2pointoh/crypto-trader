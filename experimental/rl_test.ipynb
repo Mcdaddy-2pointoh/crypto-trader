{
 "cells": [
  {
   "cell_type": "markdown",
   "id": "41d41a46",
   "metadata": {},
   "source": [
    "# 1. Load Data "
   ]
  },
  {
   "cell_type": "code",
   "execution_count": 1,
   "id": "fe93f633",
   "metadata": {},
   "outputs": [],
   "source": [
    "from data_scrappers.crypto_prices import get_end_of_day_prices\n",
    "import yaml "
   ]
  },
  {
   "cell_type": "markdown",
   "id": "d5128a8e",
   "metadata": {},
   "source": [
    "# 2. Install packages"
   ]
  },
  {
   "cell_type": "code",
   "execution_count": null,
   "id": "20b72af9",
   "metadata": {},
   "outputs": [
    {
     "name": "stdout",
     "output_type": "stream",
     "text": [
      "{'main': {'data_scraping_conf': {'crypto_currencies': ['bitcoin'], 'timezones': 'Asia/Kolkata', 'fiat_currency': 'INR', 'archive_historic_period_days': 30}}}\n"
     ]
    }
   ],
   "source": [
    "# read config files\n",
    "with open('../configurator/main.yml', 'r') as f:\n",
    "    data = yaml.safe_load(f)"
   ]
  },
  {
   "cell_type": "code",
   "execution_count": null,
   "id": "62b8accc",
   "metadata": {},
   "outputs": [],
   "source": [
    "\n",
    "df = get_end_of_day_prices(crypto_id=, currency_code='inr', N=45, timezone=\"Asia/Kolkata\")"
   ]
  }
 ],
 "metadata": {
  "kernelspec": {
   "display_name": "trader-venv",
   "language": "python",
   "name": "python3"
  },
  "language_info": {
   "codemirror_mode": {
    "name": "ipython",
    "version": 3
   },
   "file_extension": ".py",
   "mimetype": "text/x-python",
   "name": "python",
   "nbconvert_exporter": "python",
   "pygments_lexer": "ipython3",
   "version": "3.12.1"
  }
 },
 "nbformat": 4,
 "nbformat_minor": 5
}
